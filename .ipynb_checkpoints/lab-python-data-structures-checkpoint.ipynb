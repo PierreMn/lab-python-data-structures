{
 "cells": [
  {
   "cell_type": "markdown",
   "metadata": {
    "tags": []
   },
   "source": [
    "# Lab | Data Structures "
   ]
  },
  {
   "cell_type": "markdown",
   "metadata": {},
   "source": [
    "## Exercise: Managing Customer Orders\n",
    "\n",
    "As part of a business venture, you are starting an online store that sells various products. To ensure smooth operations, you need to develop a program that manages customer orders and inventory.\n",
    "\n",
    "Follow the steps below to complete the exercise:\n",
    "\n",
    "1. Define a list called `products` that contains the following items: \"t-shirt\", \"mug\", \"hat\", \"book\", \"keychain\".\n",
    "\n",
    "2. Create an empty dictionary called `inventory`.\n",
    "\n",
    "3. Ask the user to input the quantity of each product available in the inventory. Use the product names from the `products` list as keys in the `inventory` dictionary and assign the respective quantities as values.\n",
    "\n",
    "4. Create an empty set called `customer_orders`.\n",
    "\n",
    "5. Ask the user to input the name of three products that a customer wants to order (from those in the products list, meaning three products out of \"t-shirt\", \"mug\", \"hat\", \"book\" or \"keychain\". Add each product name to the `customer_orders` set.\n",
    "\n",
    "6. Print the products in the `customer_orders` set.\n",
    "\n",
    "7. Calculate the following order statistics:\n",
    "   - Total Products Ordered: The total number of products in the `customer_orders` set.\n",
    "   - Percentage of Products Ordered: The percentage of products ordered compared to the total available products.\n",
    "   \n",
    "   Store these statistics in a tuple called `order_status`.\n",
    "\n",
    "8. Print the order statistics using the following format:\n",
    "   ```\n",
    "   Order Statistics:\n",
    "   Total Products Ordered: <total_products_ordered>\n",
    "   Percentage of Products Ordered: <percentage_ordered>% \n",
    "   ```\n",
    "\n",
    "9. Update the inventory by subtracting 1 from the quantity of each product. Modify the `inventory` dictionary accordingly.\n",
    "\n",
    "10. Print the updated inventory, displaying the quantity of each product on separate lines.\n",
    "\n",
    "Solve the exercise by implementing the steps using the Python concepts of lists, dictionaries, sets, and basic input/output operations. "
   ]
  },
  {
   "cell_type": "code",
   "execution_count": 1,
   "metadata": {},
   "outputs": [
    {
     "name": "stdout",
     "output_type": "stream",
     "text": [
      "How many t-shirts do we have? 6\n",
      "How many mugs do we have? 7\n",
      "How many hats do we have? 7\n",
      "How many books do we have? 8\n",
      "How many keychains do we have? 9\n",
      "which is the first product you want to order among out of \"t-shirt\", \"mug\", \"hat\", \"book\" or \"keychain\"? mug\n",
      "which is the second product you want to order among out of \"t-shirt\", \"mug\", \"hat\", \"book\" or \"keychain\"? hat\n",
      "which is the third product you want to order among out of \"t-shirt\", \"mug\", \"hat\", \"book\" or \"keychain\"? book\n",
      "{'hat', 'book', 'mug'}\n",
      "Order Statistics:\n",
      "Total Products Ordered:  3\n",
      "Percentage of Products ordered:  60.0 %\n",
      "t-shirt : 6\n",
      "mug : 6\n",
      "hat : 6\n",
      "book : 7\n",
      "keychain : 9\n"
     ]
    }
   ],
   "source": [
    "products = [\"t-shirt\", \"mug\", \"hat\", \"book\", \"keychain\"]\n",
    "inventory = {}\n",
    "for i in range(len(products)):\n",
    "    inventory[products[i]] = input(f\"How many {products[i]}s do we have? \")\n",
    "customer_orders = set()\n",
    "product_1 = input('which is the first product you want to order among out of \"t-shirt\", \"mug\", \"hat\", \"book\" or \"keychain\"? ')\n",
    "customer_orders.add(product_1)\n",
    "product_2 = input('which is the second product you want to order among out of \"t-shirt\", \"mug\", \"hat\", \"book\" or \"keychain\"? ')\n",
    "customer_orders.add(product_2)\n",
    "product_3 = input('which is the third product you want to order among out of \"t-shirt\", \"mug\", \"hat\", \"book\" or \"keychain\"? ')\n",
    "customer_orders.add(product_3)\n",
    "print(customer_orders)\n",
    "total_products_ordered = len(customer_orders)\n",
    "percentage_ordered = total_products_ordered / len(products) * 100\n",
    "order_status = (total_products_ordered , percentage_ordered)\n",
    "print(\"Order Statistics:\")\n",
    "print(\"Total Products Ordered: \", total_products_ordered)\n",
    "print(\"Percentage of Products ordered: \",percentage_ordered,\"%\")\n",
    "inventory[product_1] = int(inventory.get(product_1)) - 1\n",
    "inventory[product_2] = int(inventory.get(product_2)) - 1\n",
    "inventory[product_3] = int(inventory.get(product_3)) - 1\n",
    "for key, value in inventory.items():\n",
    "    print(key, \":\", value)"
   ]
  },
  {
   "cell_type": "code",
   "execution_count": null,
   "metadata": {},
   "outputs": [],
   "source": []
  }
 ],
 "metadata": {
  "kernelspec": {
   "display_name": "Python 3 (ipykernel)",
   "language": "python",
   "name": "python3"
  },
  "language_info": {
   "codemirror_mode": {
    "name": "ipython",
    "version": 3
   },
   "file_extension": ".py",
   "mimetype": "text/x-python",
   "name": "python",
   "nbconvert_exporter": "python",
   "pygments_lexer": "ipython3",
   "version": "3.11.5"
  }
 },
 "nbformat": 4,
 "nbformat_minor": 4
}
